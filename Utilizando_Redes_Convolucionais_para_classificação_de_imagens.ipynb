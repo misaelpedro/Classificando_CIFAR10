{
  "nbformat": 4,
  "nbformat_minor": 0,
  "metadata": {
    "colab": {
      "name": "Utilizando Redes Convolucionais para classificação de imagens.ipynb",
      "provenance": [],
      "collapsed_sections": [
        "zcoI2_Ju6Bgp"
      ]
    },
    "kernelspec": {
      "name": "python3",
      "display_name": "Python 3"
    },
    "language_info": {
      "name": "python"
    },
    "accelerator": "GPU",
    "gpuClass": "standard",
    "widgets": {
      "application/vnd.jupyter.widget-state+json": {
        "bcf4fd2bc9e44d3d8ce9402c4c0068c6": {
          "model_module": "@jupyter-widgets/controls",
          "model_name": "HBoxModel",
          "model_module_version": "1.5.0",
          "state": {
            "_dom_classes": [],
            "_model_module": "@jupyter-widgets/controls",
            "_model_module_version": "1.5.0",
            "_model_name": "HBoxModel",
            "_view_count": null,
            "_view_module": "@jupyter-widgets/controls",
            "_view_module_version": "1.5.0",
            "_view_name": "HBoxView",
            "box_style": "",
            "children": [
              "IPY_MODEL_f007702888f2420cbc87047090574e3b",
              "IPY_MODEL_60c2562b0b0b42c499511309698b3758",
              "IPY_MODEL_a188122048764b9b8693144e0872f45d"
            ],
            "layout": "IPY_MODEL_aacc93c7892547a9be2cc292da56e855"
          }
        },
        "f007702888f2420cbc87047090574e3b": {
          "model_module": "@jupyter-widgets/controls",
          "model_name": "HTMLModel",
          "model_module_version": "1.5.0",
          "state": {
            "_dom_classes": [],
            "_model_module": "@jupyter-widgets/controls",
            "_model_module_version": "1.5.0",
            "_model_name": "HTMLModel",
            "_view_count": null,
            "_view_module": "@jupyter-widgets/controls",
            "_view_module_version": "1.5.0",
            "_view_name": "HTMLView",
            "description": "",
            "description_tooltip": null,
            "layout": "IPY_MODEL_2b08276970004b92b84f2aab0b7698dd",
            "placeholder": "​",
            "style": "IPY_MODEL_fb1835a12777402cb9a87c18f87a1143",
            "value": "100%"
          }
        },
        "60c2562b0b0b42c499511309698b3758": {
          "model_module": "@jupyter-widgets/controls",
          "model_name": "FloatProgressModel",
          "model_module_version": "1.5.0",
          "state": {
            "_dom_classes": [],
            "_model_module": "@jupyter-widgets/controls",
            "_model_module_version": "1.5.0",
            "_model_name": "FloatProgressModel",
            "_view_count": null,
            "_view_module": "@jupyter-widgets/controls",
            "_view_module_version": "1.5.0",
            "_view_name": "ProgressView",
            "bar_style": "success",
            "description": "",
            "description_tooltip": null,
            "layout": "IPY_MODEL_7aa2b34dd31842cba125fa7b84412a50",
            "max": 170498071,
            "min": 0,
            "orientation": "horizontal",
            "style": "IPY_MODEL_01d535f020164f8bb0619688204a4142",
            "value": 170498071
          }
        },
        "a188122048764b9b8693144e0872f45d": {
          "model_module": "@jupyter-widgets/controls",
          "model_name": "HTMLModel",
          "model_module_version": "1.5.0",
          "state": {
            "_dom_classes": [],
            "_model_module": "@jupyter-widgets/controls",
            "_model_module_version": "1.5.0",
            "_model_name": "HTMLModel",
            "_view_count": null,
            "_view_module": "@jupyter-widgets/controls",
            "_view_module_version": "1.5.0",
            "_view_name": "HTMLView",
            "description": "",
            "description_tooltip": null,
            "layout": "IPY_MODEL_90daaf3ce69046f2bd4847774089dd37",
            "placeholder": "​",
            "style": "IPY_MODEL_9a04cc766f8f4fafa683c738871162b5",
            "value": " 170498071/170498071 [00:12&lt;00:00, 14930392.08it/s]"
          }
        },
        "aacc93c7892547a9be2cc292da56e855": {
          "model_module": "@jupyter-widgets/base",
          "model_name": "LayoutModel",
          "model_module_version": "1.2.0",
          "state": {
            "_model_module": "@jupyter-widgets/base",
            "_model_module_version": "1.2.0",
            "_model_name": "LayoutModel",
            "_view_count": null,
            "_view_module": "@jupyter-widgets/base",
            "_view_module_version": "1.2.0",
            "_view_name": "LayoutView",
            "align_content": null,
            "align_items": null,
            "align_self": null,
            "border": null,
            "bottom": null,
            "display": null,
            "flex": null,
            "flex_flow": null,
            "grid_area": null,
            "grid_auto_columns": null,
            "grid_auto_flow": null,
            "grid_auto_rows": null,
            "grid_column": null,
            "grid_gap": null,
            "grid_row": null,
            "grid_template_areas": null,
            "grid_template_columns": null,
            "grid_template_rows": null,
            "height": null,
            "justify_content": null,
            "justify_items": null,
            "left": null,
            "margin": null,
            "max_height": null,
            "max_width": null,
            "min_height": null,
            "min_width": null,
            "object_fit": null,
            "object_position": null,
            "order": null,
            "overflow": null,
            "overflow_x": null,
            "overflow_y": null,
            "padding": null,
            "right": null,
            "top": null,
            "visibility": null,
            "width": null
          }
        },
        "2b08276970004b92b84f2aab0b7698dd": {
          "model_module": "@jupyter-widgets/base",
          "model_name": "LayoutModel",
          "model_module_version": "1.2.0",
          "state": {
            "_model_module": "@jupyter-widgets/base",
            "_model_module_version": "1.2.0",
            "_model_name": "LayoutModel",
            "_view_count": null,
            "_view_module": "@jupyter-widgets/base",
            "_view_module_version": "1.2.0",
            "_view_name": "LayoutView",
            "align_content": null,
            "align_items": null,
            "align_self": null,
            "border": null,
            "bottom": null,
            "display": null,
            "flex": null,
            "flex_flow": null,
            "grid_area": null,
            "grid_auto_columns": null,
            "grid_auto_flow": null,
            "grid_auto_rows": null,
            "grid_column": null,
            "grid_gap": null,
            "grid_row": null,
            "grid_template_areas": null,
            "grid_template_columns": null,
            "grid_template_rows": null,
            "height": null,
            "justify_content": null,
            "justify_items": null,
            "left": null,
            "margin": null,
            "max_height": null,
            "max_width": null,
            "min_height": null,
            "min_width": null,
            "object_fit": null,
            "object_position": null,
            "order": null,
            "overflow": null,
            "overflow_x": null,
            "overflow_y": null,
            "padding": null,
            "right": null,
            "top": null,
            "visibility": null,
            "width": null
          }
        },
        "fb1835a12777402cb9a87c18f87a1143": {
          "model_module": "@jupyter-widgets/controls",
          "model_name": "DescriptionStyleModel",
          "model_module_version": "1.5.0",
          "state": {
            "_model_module": "@jupyter-widgets/controls",
            "_model_module_version": "1.5.0",
            "_model_name": "DescriptionStyleModel",
            "_view_count": null,
            "_view_module": "@jupyter-widgets/base",
            "_view_module_version": "1.2.0",
            "_view_name": "StyleView",
            "description_width": ""
          }
        },
        "7aa2b34dd31842cba125fa7b84412a50": {
          "model_module": "@jupyter-widgets/base",
          "model_name": "LayoutModel",
          "model_module_version": "1.2.0",
          "state": {
            "_model_module": "@jupyter-widgets/base",
            "_model_module_version": "1.2.0",
            "_model_name": "LayoutModel",
            "_view_count": null,
            "_view_module": "@jupyter-widgets/base",
            "_view_module_version": "1.2.0",
            "_view_name": "LayoutView",
            "align_content": null,
            "align_items": null,
            "align_self": null,
            "border": null,
            "bottom": null,
            "display": null,
            "flex": null,
            "flex_flow": null,
            "grid_area": null,
            "grid_auto_columns": null,
            "grid_auto_flow": null,
            "grid_auto_rows": null,
            "grid_column": null,
            "grid_gap": null,
            "grid_row": null,
            "grid_template_areas": null,
            "grid_template_columns": null,
            "grid_template_rows": null,
            "height": null,
            "justify_content": null,
            "justify_items": null,
            "left": null,
            "margin": null,
            "max_height": null,
            "max_width": null,
            "min_height": null,
            "min_width": null,
            "object_fit": null,
            "object_position": null,
            "order": null,
            "overflow": null,
            "overflow_x": null,
            "overflow_y": null,
            "padding": null,
            "right": null,
            "top": null,
            "visibility": null,
            "width": null
          }
        },
        "01d535f020164f8bb0619688204a4142": {
          "model_module": "@jupyter-widgets/controls",
          "model_name": "ProgressStyleModel",
          "model_module_version": "1.5.0",
          "state": {
            "_model_module": "@jupyter-widgets/controls",
            "_model_module_version": "1.5.0",
            "_model_name": "ProgressStyleModel",
            "_view_count": null,
            "_view_module": "@jupyter-widgets/base",
            "_view_module_version": "1.2.0",
            "_view_name": "StyleView",
            "bar_color": null,
            "description_width": ""
          }
        },
        "90daaf3ce69046f2bd4847774089dd37": {
          "model_module": "@jupyter-widgets/base",
          "model_name": "LayoutModel",
          "model_module_version": "1.2.0",
          "state": {
            "_model_module": "@jupyter-widgets/base",
            "_model_module_version": "1.2.0",
            "_model_name": "LayoutModel",
            "_view_count": null,
            "_view_module": "@jupyter-widgets/base",
            "_view_module_version": "1.2.0",
            "_view_name": "LayoutView",
            "align_content": null,
            "align_items": null,
            "align_self": null,
            "border": null,
            "bottom": null,
            "display": null,
            "flex": null,
            "flex_flow": null,
            "grid_area": null,
            "grid_auto_columns": null,
            "grid_auto_flow": null,
            "grid_auto_rows": null,
            "grid_column": null,
            "grid_gap": null,
            "grid_row": null,
            "grid_template_areas": null,
            "grid_template_columns": null,
            "grid_template_rows": null,
            "height": null,
            "justify_content": null,
            "justify_items": null,
            "left": null,
            "margin": null,
            "max_height": null,
            "max_width": null,
            "min_height": null,
            "min_width": null,
            "object_fit": null,
            "object_position": null,
            "order": null,
            "overflow": null,
            "overflow_x": null,
            "overflow_y": null,
            "padding": null,
            "right": null,
            "top": null,
            "visibility": null,
            "width": null
          }
        },
        "9a04cc766f8f4fafa683c738871162b5": {
          "model_module": "@jupyter-widgets/controls",
          "model_name": "DescriptionStyleModel",
          "model_module_version": "1.5.0",
          "state": {
            "_model_module": "@jupyter-widgets/controls",
            "_model_module_version": "1.5.0",
            "_model_name": "DescriptionStyleModel",
            "_view_count": null,
            "_view_module": "@jupyter-widgets/base",
            "_view_module_version": "1.2.0",
            "_view_name": "StyleView",
            "description_width": ""
          }
        }
      }
    }
  },
  "cells": [
    {
      "cell_type": "markdown",
      "source": [
        "# Utilizando Redes Convolucionais para classificação de imagens.\n",
        " \n",
        "\n",
        "> Na atual pós-modernidade, a humanidade sempre esteve em busca de métodos inteligentes e automatizaveis que pudessem promover economia de tempo, aumentos de peformance, competitividade e disponibilidade além de economia de custos. Nesse contexto aplicações de Inteligência artificial vem sendo estudadas desde a metade do seculo XX, pórem apenas nos ultimos 20 tornando estas aplicações começaram a ter maior destaque.\n",
        "\n",
        "> Partindo desse ponto, este notebook tem o intuito de ilustar e explicar alguns detalhes sobre o funcionamento de uma rede neural artificial. O exemplo utilizado será de uma rede convolucional, que é uma categoria de RNA usualmente utilizada na classificação de imagens e detecção de objetos em imagens.\n",
        "\n",
        ">O Dataset que fornecera imagens de exemplo para treinamento e teste da RNA é o CIFAR-10, amplamente disponivel na internt. Ele contem 10 classes de imagens que variam de veículos a animais. Explicado estes pontos, o processo será iniciado primeiramente atráves da importação das bibliotecas que serão utilizadas.\n",
        "<center>\n",
        "<img alt='tarefas de visão computacional' widht='50%' src=https://miro.medium.com/max/5856/1*Hz6t-tokG1niaUfmcysusw.jpeg>\n",
        "</img>\n",
        "</center>"
      ],
      "metadata": {
        "id": "R14exYhe7MU6"
      }
    },
    {
      "cell_type": "code",
      "execution_count": null,
      "metadata": {
        "id": "IKFTzxvtyVOO"
      },
      "outputs": [],
      "source": [
        "# Implementação da rede\n",
        "import torch\n",
        "from torch import nn, optim\n",
        "\n",
        "# Carregamento de Dados\n",
        "from torch.utils.data import DataLoader, random_split\n",
        "from torchvision import datasets\n",
        "from torchvision import transforms\n",
        "\n",
        "from torch import optim\n",
        "import torch.nn.functional as F\n",
        "\n",
        "# Plots e análises\n",
        "from sklearn.metrics import accuracy_score\n",
        "import seaborn as sns\n",
        "import matplotlib.pyplot as plt\n",
        "import numpy as np\n",
        "import time, os\n",
        "\n",
        "%matplotlib inline"
      ]
    },
    {
      "cell_type": "markdown",
      "source": [
        "## Obtenção de dados, Definição de parâmetros e Transformações de dados:\n"
      ],
      "metadata": {
        "id": "xw4U_WnA459T"
      }
    },
    {
      "cell_type": "code",
      "source": [
        "# Definição das transformações que deve ser realizadas ao importar os dados do módulo datasets do pacote torchvision:\n",
        "\n",
        "transform = transforms.Compose([transforms.Resize((32,32)), transforms.RandomHorizontalFlip(p=0.7), transforms.ToTensor(), transforms.Normalize(mean=[0.485, 0.456, 0.406], std=[0.229, 0.224, 0.225])])\n",
        "\n",
        "# Obtenção de dados: \n",
        "\n",
        "train_set = datasets.CIFAR10('.', train=True, transform=transform,  download=True)\n",
        "\n",
        "test_set = datasets.CIFAR10('.',   train=False, transform=transform, download=True)\n",
        "\n",
        "# Classes presentes no conjunto de dados:\n",
        "\n",
        "classes = ('plane', 'car', 'bird', 'cat',\n",
        "           'deer', 'dog', 'frog', 'horse', 'ship', 'truck')"
      ],
      "metadata": {
        "colab": {
          "base_uri": "https://localhost:8080/",
          "height": 101,
          "referenced_widgets": [
            "bcf4fd2bc9e44d3d8ce9402c4c0068c6",
            "f007702888f2420cbc87047090574e3b",
            "60c2562b0b0b42c499511309698b3758",
            "a188122048764b9b8693144e0872f45d",
            "aacc93c7892547a9be2cc292da56e855",
            "2b08276970004b92b84f2aab0b7698dd",
            "fb1835a12777402cb9a87c18f87a1143",
            "7aa2b34dd31842cba125fa7b84412a50",
            "01d535f020164f8bb0619688204a4142",
            "90daaf3ce69046f2bd4847774089dd37",
            "9a04cc766f8f4fafa683c738871162b5"
          ]
        },
        "id": "-2Q4aNj4yY0A",
        "outputId": "1ab3ee19-6d3c-4730-ce82-c37d8d79c6ea"
      },
      "execution_count": null,
      "outputs": [
        {
          "output_type": "stream",
          "name": "stdout",
          "text": [
            "Downloading https://www.cs.toronto.edu/~kriz/cifar-10-python.tar.gz to ./cifar-10-python.tar.gz\n"
          ]
        },
        {
          "output_type": "display_data",
          "data": {
            "text/plain": [
              "  0%|          | 0/170498071 [00:00<?, ?it/s]"
            ],
            "application/vnd.jupyter.widget-view+json": {
              "version_major": 2,
              "version_minor": 0,
              "model_id": "bcf4fd2bc9e44d3d8ce9402c4c0068c6"
            }
          },
          "metadata": {}
        },
        {
          "output_type": "stream",
          "name": "stdout",
          "text": [
            "Extracting ./cifar-10-python.tar.gz to .\n",
            "Files already downloaded and verified\n"
          ]
        }
      ]
    },
    {
      "cell_type": "code",
      "source": [
        "transform_ex=transforms.Compose([transforms.Resize((32,32)), transforms.ToTensor()])\n",
        "test_example = datasets.CIFAR10('.', train=False, transform=transform_ex,  download=False)"
      ],
      "metadata": {
        "id": "XoPb5xqDDVpN"
      },
      "execution_count": null,
      "outputs": []
    },
    {
      "cell_type": "code",
      "source": [
        "fig, axs = plt.subplots(1,10, figsize=(32,4));\n",
        "fig.suptitle('Exemplo de imagens', fontsize=28)\n",
        "for i in range(10):\n",
        "  np.random.random_integers(33);\n",
        "  data, label = test_example[i];\n",
        "  axs[i].imshow(data.permute((1,2,0)));\n",
        "  axs[i].set_title(classes[label]+': '+(str(label)),size=25);\n",
        "  axs[i].axis('off');\n",
        "  "
      ],
      "metadata": {
        "colab": {
          "base_uri": "https://localhost:8080/",
          "height": 200
        },
        "id": "JJlysCjAyt4s",
        "outputId": "ab0c3cc5-ef31-43ec-c814-fcb54f01da33"
      },
      "execution_count": null,
      "outputs": [
        {
          "output_type": "stream",
          "name": "stderr",
          "text": [
            "/usr/local/lib/python3.7/dist-packages/ipykernel_launcher.py:4: DeprecationWarning: This function is deprecated. Please call randint(1, 33 + 1) instead\n",
            "  after removing the cwd from sys.path.\n"
          ]
        },
        {
          "output_type": "display_data",
          "data": {
            "text/plain": [
              "<Figure size 2304x288 with 10 Axes>"
            ],
            "image/png": "[encoded data removed]"
          },
          "metadata": {
            "needs_background": "light"
          }
        }
      ]
    },
    {
      "cell_type": "markdown",
      "source": [
        "## Parâmetros de uma rede neural:\n",
        "\n",
        "-> Uma rede neural artificial possui diversos parâmetros que influenciam diretamente o desempenho do modelo. **Tamanho do mini-bacth, taxa de aprendizado (Learning rate) e Weight decay** são alguns dos hiper-parâmetros que podem ser configurados. \n",
        "\n",
        "\n",
        "---\n",
        "\n",
        "\n",
        "1. **Tamanho do mini-batch:** Define o número de imagens usadas por mini-bacth e consequentemente o número de mini-bacth a serem usados por época. \n",
        " \n",
        "\n",
        "2. **Taxa de aprendizado:** Esse parâmetro é utilizado para influenciar como a rede utiliza os pesos, sua principal função é guiar a rede até a região onde há o menor custo (loss). É preciso fica atento pois, learning rate maiores podem deixar a rede confusa fazendo com que ela não identifique corretamente o caminho para a ponto que apresenta o menor custo.\n",
        "<center>\n",
        "<img alt=\"Exemplo da descida do gradiente\" width=\"80%\" src='http://www.bdhammel.com/assets/learning-rate/lr-types.png'>\n",
        "</center>\n",
        "\n",
        "3. **Weight decay(𝜆):** É um termo adicional utilizado para penalizar pesos muito grandes, evitando assim que o modelo tenha grau de liberdade muito alto, oque poderia acarretar provável em  overfitting (O modelo se adapta muito aos dados de treino e acaba não conseguindo generalizar quando aplicado aos dados de teste). Abaixo um exemplo de regularização *L2*.\n",
        "  <center>\n",
        "                                    Ê(𝐰)=𝐸(𝐰)+𝜆/2*[(w)ˆ2]\n",
        "\n",
        "\n",
        "  </center>\n",
        "\n",
        "\n",
        "<a href=\"https://jamesmccaffrey.wordpress.com/2019/05/09/the-difference-between-neural-network-l2-regularization-and-weight-decay/\"  ><button>Artigo sobre Weight Decay\n",
        " </button></a>\n",
        "  "
      ],
      "metadata": {
        "id": "Izs2bcEaNg8z"
      }
    },
    {
      "cell_type": "code",
      "source": [
        "# Configurando parâmetros:\n",
        "\n",
        "args = {\n",
        "    'epoch_num': 12,     # Número de épocas.\n",
        "    'lr': 1.5e-3,           # Taxa de aprendizado.\n",
        "    'weight_decay': 2e-3, # Penalidade L2 (Regularização).\n",
        "    'batch_size': 128,     # Tamanho do batch.\n",
        "}\n",
        "\n",
        "# Dividindo as imagens em mini-batchs:\n",
        "\n",
        "trainloader=DataLoader(train_set,args['batch_size'],shuffle=True)\n",
        "testloader=DataLoader(test_set,args['batch_size'],shuffle=True)\n",
        "\n",
        "# Definindo dispositivo de hardware:\n",
        "\n",
        "if torch.cuda.is_available():\n",
        "    args['device'] = torch.device('cuda')\n",
        "else:\n",
        "    args['device'] = torch.device('cpu')\n",
        "\n",
        "print(args['device'])"
      ],
      "metadata": {
        "colab": {
          "base_uri": "https://localhost:8080/"
        },
        "id": "9AdL6DBjyXpA",
        "outputId": "c1f7d21e-6afd-48ec-f1ee-9e94ace4d477"
      },
      "execution_count": null,
      "outputs": [
        {
          "output_type": "stream",
          "name": "stdout",
          "text": [
            "cuda\n"
          ]
        }
      ]
    },
    {
      "cell_type": "markdown",
      "source": [
        "##Rede:\n",
        "\n",
        " -> **LeNet-5:** Esta arquitetura de rede neural convolucional foi proposta em 1989 por Yann LeCun, e foi originalmente desenvolvida para reconhecer dígitos digitados a mão de correspondências do correio postal dos EUA. \n",
        "  \n",
        "  -> **Arquitetura:** A rede proposta por Yann pode ser separada em duas partes, uma responsável pela extração de características e/ou responsável por classificar imagens em um rótulo. \n",
        "\n",
        "  1. **Extrator de características:** Composta de 3 camadas convulsionais (conv) com kernel 5x5 de stride 1 com canais de saída que aumenta progressivamente. Duas dessas camadas conv. São seguidas por camadas de polling e todas elas são seguidas de funções de ativação. Sua principal função é extrair características especificas de cada classe. \n",
        "\n",
        "  2. **Camada Flatten:** Nessa camada as imagens produzidas pela camada anterior são redimensionadas para se tornar um array linear de dimensão 1. \n",
        "\n",
        "  3. **Classificador:** Recebe a saída da camada flatten e utiliza um Multi Layer Perceptron (MLP), para classificar a imagem de entrada em uma classe. É composta por duas camadas Densas, apenas uma delas é ativada.\n",
        "  \n",
        "\n",
        "<center>\n",
        "<img alt=\"Arquitetura LeNet-5\" width=\"80%\" src='https://www.researchgate.net/publication/328747541/figure/fig1/AS:689664499392513@1541440238195/The-network-structure-of-LeNet5-25.png'>\n",
        "</center>"
      ],
      "metadata": {
        "id": "7RoHA5HCQQzz"
      }
    },
    {
      "cell_type": "code",
      "source": [
        "class LeNet5(nn.Module):\n",
        "  def __init__(self, n_classes):\n",
        "    super(LeNet5,self).__init__()\n",
        "    \n",
        "    # Utilizando a função __init__ conjuntamente com a super iniciamos a classe nn.Module e definimos a arquitetura da rede.\n",
        "    \n",
        "    self.feature_extractor=nn.Sequential(\n",
        "        nn.Conv2d(in_channels=3, out_channels=12, kernel_size=5, stride=1),\n",
        "        nn.Tanh(),\n",
        "        nn.AvgPool2d(kernel_size=2),\n",
        "        nn.Conv2d(in_channels=12, out_channels=36, kernel_size=5, stride=1),\n",
        "        nn.Tanh(),\n",
        "        nn.AvgPool2d(kernel_size=2),\n",
        "        nn.Conv2d(in_channels=36, out_channels=200, kernel_size=5, stride=1),\n",
        "        nn.Tanh()\n",
        "    )\n",
        "    self.flatten=nn.Sequential(nn.Flatten()\n",
        "    )\n",
        "    self.classifier=nn.Sequential(\n",
        "        nn.Linear(in_features=200, out_features=100),\n",
        "        nn.Tanh(),\n",
        "        nn.Linear(in_features=100, out_features=n_classes)\n",
        "    )\n",
        "   # A função forward agrupa as camadas definidas anteriormente.\n",
        "\n",
        "  def forward(self,x):\n",
        "    x=self.feature_extractor(x)\n",
        "    x=self.flatten(x)\n",
        "    logits=self.classifier(x)\n",
        "    probs=F.softmax(logits)\n",
        "    return probs"
      ],
      "metadata": {
        "id": "n4NRImvaywL2"
      },
      "execution_count": null,
      "outputs": []
    },
    {
      "cell_type": "markdown",
      "source": [
        "## Net Training:"
      ],
      "metadata": {
        "id": "Nm_Dll7u5vUY"
      }
    },
    {
      "cell_type": "markdown",
      "source": [
        "-> **Função de perda:** Conhecida também como função de custo, visa medir quão bem uma rede executa determinada tarefa, como atribuir o rótulo ou valor correto. Exemplo de função de custo são:\n",
        "\n",
        "\n",
        "\n",
        "\n",
        "1. **Categorical crossentropy loss:**\n",
        "<center>\n",
        "<img alt=\"Cross-entropy\" width=\"50%\" src='https://i.stack.imgur.com/LTx3i.png'>\n",
        "\n",
        "</center>\n",
        "\n",
        "2. **Mean squared error loss:**\n",
        "<center>\n",
        "<img alt=\"MSE\" width=\"40%\" src='https://pbs.twimg.com/media/Etuc3k4XAAIE1Gb.jpg'>\n",
        "\n",
        "</center>\n",
        "\n",
        "---\n",
        "\n",
        "\n",
        "-> **Otimizador:** São funções matemáticas utilizadas para minimizar a perda(custo) maximizando a performance da rede, diversos tipos já  foram desenvolvidos cada um com  suas vantagens e desvantagens.  Independente da função todos eles são dependentes dos pesos e viés da rede.\n",
        "\n",
        "- **Adam(Adaptive Moment Estimation):**\n",
        "\n",
        "<center>\n",
        "<img alt=\"Adam Optmizer\" width=\"60%\" src='https://miro.medium.com/max/700/1*Qm07YVd-EGf2Ib7C_myDIw.jpeg'>\n",
        "</center>\n",
        "\n",
        "- **Exemplo de comparação entre otimizadores:**\n",
        "<center>\n",
        "<img alt=\"Adam Optmizer\" width=\"50%\" src='https://miro.medium.com/max/620/1*XVFmo9NxLnwDr3SxzKy-rA.gif'>\n",
        "</center>\n",
        "\n",
        "<a href=\"https://medium.com/mlearning-ai/optimizers-in-deep-learning-7bf81fed78a0\"  ><button>Mais sobre otimizadores\n",
        " </button></a>"
      ],
      "metadata": {
        "id": "SBCtV6Gjq-ZP"
      }
    },
    {
      "cell_type": "code",
      "source": [
        "#Atribuindo modelo a um objeto\n",
        "\n",
        "Lenet_model=LeNet5(10).to(args['device'])\n",
        "\n",
        "#Função de Perda\n",
        "\n",
        "criterion = nn.CrossEntropyLoss().to(args['device'])\n",
        "\n",
        "#Otimizador\n",
        "\n",
        "optimizer = optim.Adam(Lenet_model.parameters(), lr=args['lr'], weight_decay=args['weight_decay'])"
      ],
      "metadata": {
        "id": "cj4HqxCTzAZR"
      },
      "execution_count": null,
      "outputs": []
    },
    {
      "cell_type": "markdown",
      "source": [
        "-> **Feed forward:** É o processo pelo qual uma rede propaga uma entrada por diversas camadas, cada uma delas processa entrada conforme sua função de ativação e passa seu output para camada seguinte, até a camada de saída. \n",
        "\n",
        "<center>\n",
        "<img alt=\"Foward Pass\" width=\"55%\" src=https://machinelearningknowledge.ai/wp-content/uploads/2019/10/Feed-Forward-Neural-Network.gif>\n",
        "</center>\n",
        "\n",
        "\n",
        "\n",
        "-> **Backpropagation:** Método pelo qual a RNA atualiza os pesos, ocorrendo no sentido contrário ao foward, inciando na última camada e finalizando na primeira camada. O algorítimo de backpropagation computa o gradiente da função de perda. \n",
        "\n",
        "<center>\n",
        "<img alt=\"Foward Pass\" width=\"55%\" src=https://miro.medium.com/max/1280/1*VF9xl3cZr2_qyoLfDJajZw.gif>\n",
        "</center>\n",
        "\n",
        "\n",
        "\n",
        "-> **Validação:** Por meio dela o treinamento da rede é verificado consecutivamente determinando assim o quão efetivo o mesmo está sendo. Durante a etapa de validação não é computado o gradiente da função de perda, apenas é avaliado o desempenho da rede em um conjunto de imagens diferentes das de treinamento. "
      ],
      "metadata": {
        "id": "PcXN2MaV3PgR"
      }
    },
    {
      "cell_type": "code",
      "source": [
        "def Training_loop(model, criterion, optimizer, epoch_num, trainloader, testloader):\n",
        "  torch.manual_seed(3)\n",
        "\n",
        "  #Definindo o número de épocas. Em cada época a itera sobre todo o conjunto de treino. \n",
        "  \n",
        "  epochs = epoch_num\n",
        "\n",
        "  # Lista vazias para armazenamento de logs \n",
        "  epoch_log = []\n",
        "  loss_log = []\n",
        "  accuracy_log = []\n",
        "\n",
        "  # Looping para iteração em cada época. \n",
        "  for epoch in range(epochs):  \n",
        "      print(f'Inicio da Epóca: {epoch+1}...')\n",
        "\n",
        "      # Cada época começa com loss 0 e a cada mini-batch é computada. \n",
        "      running_loss = 0.0\n",
        "\n",
        "      \n",
        "      # Colocando o modelo em modo de traino.\n",
        "      #Iterando sobre trainloader\n",
        "      model.train()\n",
        "      for i, data in enumerate(trainloader, 0):\n",
        "          #Separando as imagens dos labels \n",
        "          inputs, labels = data\n",
        "\n",
        "          # Movendo dados para GPU\n",
        "          inputs = inputs.to(args['device'])\n",
        "          labels = labels.to(args['device'])\n",
        "\n",
        "          # Limpando o gradiente antes do treinamento para cada mini-batch\n",
        "          \n",
        "          optimizer.zero_grad()\n",
        "\n",
        "          # Forward -> backpropagation + optimization\n",
        "          outputs = model(inputs) # Forward Propagation \n",
        "          loss = criterion(outputs, labels) # Obtendo a loss (diferença entre o real e o previsto)\n",
        "          loss.backward() #Propagando o gradiente por todos os nós. \n",
        "          optimizer.step() # Atualizando os pesos. \n",
        "\n",
        "          # Visualizando  métricas de treino - época/Iterações/Loss/Acurácia. \n",
        "          running_loss += loss.item()\n",
        "          if i % 50 == 49:    # exibe a loss para 50 mini-batches\n",
        "              correct = 0 # Variável para contar o número de previsões corretas.\n",
        "              total = 0 # Contagem total de rótulos. \n",
        "\n",
        "              # Durante a validação não é computado gradiente. \n",
        "              \n",
        "              with torch.no_grad():\n",
        "                  # Iteração sobre testloader \n",
        "                  for data in testloader:\n",
        "                      images, labels = data\n",
        "                      \n",
        "                      images = images.to(args['device'])\n",
        "                      labels = labels.to(args['device'])\n",
        "                      \n",
        "                      # Foward propagation das imagens de teste.\n",
        "                      outputs = model(images)\n",
        "\n",
        "                      # Obtém a previsão a partir do valor máximo do tensor de saída(Softmax)\n",
        "                      # dim = 1  especifica o número de dimensões para redução  \n",
        "                      _, predicted = torch.max(outputs.data, dim = 1)\n",
        "                      #Adiciona o total de imagens do tensor. \n",
        "                      total += labels.size(0)\n",
        "                      # Soma o total de previsões corretas. \n",
        "                      correct += (predicted == labels).sum().item()\n",
        "\n",
        "                  accuracy = 100 * correct / total\n",
        "                  epoch_num = epoch + 1\n",
        "                  actual_loss = running_loss / 50\n",
        "                  print(f'Epóca: {epoch_num}, Mini-Batches Completos: {(i+1)}, Loss: {actual_loss:.3f}, Acurácia de teste  = {accuracy:.3f}%')\n",
        "                  running_loss = 0.0\n",
        "\n",
        "      # Armazenamento de dados de treinamento\n",
        "      epoch_log.append(epoch_num)\n",
        "      loss_log.append(actual_loss)\n",
        "      accuracy_log.append(accuracy)\n",
        "\n",
        "  print('Treino finalizado')\n",
        "  return(epoch_log,loss_log,accuracy_log, model)"
      ],
      "metadata": {
        "id": "-RqKKDKp1VuK"
      },
      "execution_count": null,
      "outputs": []
    },
    {
      "cell_type": "code",
      "source": [
        "model_data=Training_loop(Lenet_model, criterion, optimizer, args['epoch_num'], trainloader, testloader)"
      ],
      "metadata": {
        "colab": {
          "base_uri": "https://localhost:8080/"
        },
        "id": "Y3DGKwgwQAO6",
        "outputId": "6536f5ad-2100-4e8f-eb35-953b5ecde2ae"
      },
      "execution_count": null,
      "outputs": [
        {
          "output_type": "stream",
          "name": "stdout",
          "text": [
            "Inicio da Epóca: 1...\n"
          ]
        },
        {
          "output_type": "stream",
          "name": "stderr",
          "text": [
            "/usr/local/lib/python3.7/dist-packages/ipykernel_launcher.py:30: UserWarning: Implicit dimension choice for softmax has been deprecated. Change the call to include dim=X as an argument.\n"
          ]
        },
        {
          "output_type": "stream",
          "name": "stdout",
          "text": [
            "Epóca: 1, Mini-Batches Completos: 50, Loss: 2.206, Acurácia de teste  = 29.090%\n",
            "Epóca: 1, Mini-Batches Completos: 100, Loss: 2.148, Acurácia de teste  = 31.390%\n",
            "Epóca: 1, Mini-Batches Completos: 150, Loss: 2.130, Acurácia de teste  = 33.300%\n",
            "Epóca: 1, Mini-Batches Completos: 200, Loss: 2.125, Acurácia de teste  = 34.720%\n",
            "Epóca: 1, Mini-Batches Completos: 250, Loss: 2.108, Acurácia de teste  = 34.590%\n",
            "Epóca: 1, Mini-Batches Completos: 300, Loss: 2.107, Acurácia de teste  = 35.310%\n",
            "Epóca: 1, Mini-Batches Completos: 350, Loss: 2.105, Acurácia de teste  = 36.060%\n",
            "Inicio da Epóca: 2...\n",
            "Epóca: 2, Mini-Batches Completos: 50, Loss: 2.091, Acurácia de teste  = 35.760%\n",
            "Epóca: 2, Mini-Batches Completos: 100, Loss: 2.091, Acurácia de teste  = 37.560%\n",
            "Epóca: 2, Mini-Batches Completos: 150, Loss: 2.084, Acurácia de teste  = 36.180%\n",
            "Epóca: 2, Mini-Batches Completos: 200, Loss: 2.082, Acurácia de teste  = 38.190%\n",
            "Epóca: 2, Mini-Batches Completos: 250, Loss: 2.084, Acurácia de teste  = 37.490%\n",
            "Epóca: 2, Mini-Batches Completos: 300, Loss: 2.074, Acurácia de teste  = 38.260%\n",
            "Epóca: 2, Mini-Batches Completos: 350, Loss: 2.070, Acurácia de teste  = 40.390%\n",
            "Inicio da Epóca: 3...\n",
            "Epóca: 3, Mini-Batches Completos: 50, Loss: 2.067, Acurácia de teste  = 40.210%\n",
            "Epóca: 3, Mini-Batches Completos: 100, Loss: 2.068, Acurácia de teste  = 40.500%\n",
            "Epóca: 3, Mini-Batches Completos: 150, Loss: 2.054, Acurácia de teste  = 40.220%\n",
            "Epóca: 3, Mini-Batches Completos: 200, Loss: 2.056, Acurácia de teste  = 40.470%\n",
            "Epóca: 3, Mini-Batches Completos: 250, Loss: 2.053, Acurácia de teste  = 41.320%\n",
            "Epóca: 3, Mini-Batches Completos: 300, Loss: 2.052, Acurácia de teste  = 40.560%\n",
            "Epóca: 3, Mini-Batches Completos: 350, Loss: 2.054, Acurácia de teste  = 41.970%\n",
            "Inicio da Epóca: 4...\n",
            "Epóca: 4, Mini-Batches Completos: 50, Loss: 2.046, Acurácia de teste  = 40.730%\n",
            "Epóca: 4, Mini-Batches Completos: 100, Loss: 2.048, Acurácia de teste  = 42.540%\n",
            "Epóca: 4, Mini-Batches Completos: 150, Loss: 2.044, Acurácia de teste  = 42.410%\n",
            "Epóca: 4, Mini-Batches Completos: 200, Loss: 2.037, Acurácia de teste  = 42.370%\n",
            "Epóca: 4, Mini-Batches Completos: 250, Loss: 2.042, Acurácia de teste  = 40.900%\n",
            "Epóca: 4, Mini-Batches Completos: 300, Loss: 2.037, Acurácia de teste  = 42.670%\n",
            "Epóca: 4, Mini-Batches Completos: 350, Loss: 2.038, Acurácia de teste  = 42.510%\n",
            "Inicio da Epóca: 5...\n",
            "Epóca: 5, Mini-Batches Completos: 50, Loss: 2.031, Acurácia de teste  = 43.240%\n",
            "Epóca: 5, Mini-Batches Completos: 100, Loss: 2.040, Acurácia de teste  = 42.620%\n",
            "Epóca: 5, Mini-Batches Completos: 150, Loss: 2.032, Acurácia de teste  = 42.890%\n",
            "Epóca: 5, Mini-Batches Completos: 200, Loss: 2.031, Acurácia de teste  = 45.050%\n",
            "Epóca: 5, Mini-Batches Completos: 250, Loss: 2.027, Acurácia de teste  = 42.950%\n",
            "Epóca: 5, Mini-Batches Completos: 300, Loss: 2.028, Acurácia de teste  = 43.790%\n",
            "Epóca: 5, Mini-Batches Completos: 350, Loss: 2.022, Acurácia de teste  = 43.780%\n",
            "Inicio da Epóca: 6...\n",
            "Epóca: 6, Mini-Batches Completos: 50, Loss: 2.013, Acurácia de teste  = 44.180%\n",
            "Epóca: 6, Mini-Batches Completos: 100, Loss: 2.019, Acurácia de teste  = 42.120%\n",
            "Epóca: 6, Mini-Batches Completos: 150, Loss: 2.032, Acurácia de teste  = 44.840%\n",
            "Epóca: 6, Mini-Batches Completos: 200, Loss: 2.018, Acurácia de teste  = 44.370%\n",
            "Epóca: 6, Mini-Batches Completos: 250, Loss: 2.028, Acurácia de teste  = 45.820%\n",
            "Epóca: 6, Mini-Batches Completos: 300, Loss: 2.013, Acurácia de teste  = 45.040%\n",
            "Epóca: 6, Mini-Batches Completos: 350, Loss: 2.013, Acurácia de teste  = 44.780%\n",
            "Inicio da Epóca: 7...\n",
            "Epóca: 7, Mini-Batches Completos: 50, Loss: 2.002, Acurácia de teste  = 47.390%\n",
            "Epóca: 7, Mini-Batches Completos: 100, Loss: 2.003, Acurácia de teste  = 42.690%\n",
            "Epóca: 7, Mini-Batches Completos: 150, Loss: 2.013, Acurácia de teste  = 46.820%\n",
            "Epóca: 7, Mini-Batches Completos: 200, Loss: 2.010, Acurácia de teste  = 45.960%\n",
            "Epóca: 7, Mini-Batches Completos: 250, Loss: 2.004, Acurácia de teste  = 46.790%\n",
            "Epóca: 7, Mini-Batches Completos: 300, Loss: 2.002, Acurácia de teste  = 44.940%\n",
            "Epóca: 7, Mini-Batches Completos: 350, Loss: 2.006, Acurácia de teste  = 46.240%\n",
            "Inicio da Epóca: 8...\n",
            "Epóca: 8, Mini-Batches Completos: 50, Loss: 1.999, Acurácia de teste  = 46.890%\n",
            "Epóca: 8, Mini-Batches Completos: 100, Loss: 1.993, Acurácia de teste  = 47.140%\n",
            "Epóca: 8, Mini-Batches Completos: 150, Loss: 1.981, Acurácia de teste  = 46.780%\n",
            "Epóca: 8, Mini-Batches Completos: 200, Loss: 2.000, Acurácia de teste  = 47.520%\n",
            "Epóca: 8, Mini-Batches Completos: 250, Loss: 1.993, Acurácia de teste  = 48.500%\n",
            "Epóca: 8, Mini-Batches Completos: 300, Loss: 1.985, Acurácia de teste  = 47.570%\n",
            "Epóca: 8, Mini-Batches Completos: 350, Loss: 1.985, Acurácia de teste  = 44.690%\n",
            "Inicio da Epóca: 9...\n",
            "Epóca: 9, Mini-Batches Completos: 50, Loss: 1.991, Acurácia de teste  = 48.790%\n",
            "Epóca: 9, Mini-Batches Completos: 100, Loss: 1.973, Acurácia de teste  = 49.360%\n",
            "Epóca: 9, Mini-Batches Completos: 150, Loss: 1.984, Acurácia de teste  = 48.080%\n",
            "Epóca: 9, Mini-Batches Completos: 200, Loss: 1.977, Acurácia de teste  = 48.690%\n",
            "Epóca: 9, Mini-Batches Completos: 250, Loss: 1.986, Acurácia de teste  = 48.260%\n",
            "Epóca: 9, Mini-Batches Completos: 300, Loss: 1.987, Acurácia de teste  = 48.800%\n",
            "Epóca: 9, Mini-Batches Completos: 350, Loss: 1.986, Acurácia de teste  = 47.210%\n",
            "Inicio da Epóca: 10...\n",
            "Epóca: 10, Mini-Batches Completos: 50, Loss: 1.975, Acurácia de teste  = 48.760%\n",
            "Epóca: 10, Mini-Batches Completos: 100, Loss: 1.967, Acurácia de teste  = 49.910%\n",
            "Epóca: 10, Mini-Batches Completos: 150, Loss: 1.968, Acurácia de teste  = 49.560%\n",
            "Epóca: 10, Mini-Batches Completos: 200, Loss: 1.962, Acurácia de teste  = 48.920%\n",
            "Epóca: 10, Mini-Batches Completos: 250, Loss: 1.971, Acurácia de teste  = 49.210%\n",
            "Epóca: 10, Mini-Batches Completos: 300, Loss: 1.977, Acurácia de teste  = 49.250%\n",
            "Epóca: 10, Mini-Batches Completos: 350, Loss: 1.972, Acurácia de teste  = 48.650%\n",
            "Inicio da Epóca: 11...\n",
            "Epóca: 11, Mini-Batches Completos: 50, Loss: 1.969, Acurácia de teste  = 48.470%\n",
            "Epóca: 11, Mini-Batches Completos: 100, Loss: 1.972, Acurácia de teste  = 49.350%\n",
            "Epóca: 11, Mini-Batches Completos: 150, Loss: 1.972, Acurácia de teste  = 49.940%\n",
            "Epóca: 11, Mini-Batches Completos: 200, Loss: 1.955, Acurácia de teste  = 50.760%\n",
            "Epóca: 11, Mini-Batches Completos: 250, Loss: 1.958, Acurácia de teste  = 50.610%\n",
            "Epóca: 11, Mini-Batches Completos: 300, Loss: 1.968, Acurácia de teste  = 49.650%\n",
            "Epóca: 11, Mini-Batches Completos: 350, Loss: 1.967, Acurácia de teste  = 49.410%\n",
            "Inicio da Epóca: 12...\n",
            "Epóca: 12, Mini-Batches Completos: 50, Loss: 1.957, Acurácia de teste  = 49.120%\n",
            "Epóca: 12, Mini-Batches Completos: 100, Loss: 1.964, Acurácia de teste  = 51.240%\n",
            "Epóca: 12, Mini-Batches Completos: 150, Loss: 1.966, Acurácia de teste  = 49.650%\n",
            "Epóca: 12, Mini-Batches Completos: 200, Loss: 1.956, Acurácia de teste  = 49.020%\n",
            "Epóca: 12, Mini-Batches Completos: 250, Loss: 1.962, Acurácia de teste  = 51.000%\n",
            "Epóca: 12, Mini-Batches Completos: 300, Loss: 1.965, Acurácia de teste  = 47.490%\n",
            "Epóca: 12, Mini-Batches Completos: 350, Loss: 1.957, Acurácia de teste  = 50.010%\n",
            "Treino finalizado\n"
          ]
        }
      ]
    },
    {
      "cell_type": "code",
      "source": [
        "fig, ax1 = plt.subplots() \n",
        "fig.suptitle('Loss e Acuracia por Epoca',size=15)\n",
        "ax1.set_xlabel('Epoca',size=15) \n",
        "ax1.set_ylabel('Loss',size=15) \n",
        "ax1.plot(model_data[0],[round(l,2) for l in model_data[1]], color = 'red', label='Loss') \n",
        "\n",
        "ax2 = ax1.twinx() \n",
        "ax2.plot(model_data[0],[round(ac/100,2) for ac in model_data[2]], color = 'blue', label='Acuracia') \n",
        "fig.legend()\n",
        "plt.ylabel('Acuracia' ,size=15)\n",
        "# plt.tight_layout()\n",
        "plt.show()"
      ],
      "metadata": {
        "colab": {
          "base_uri": "https://localhost:8080/",
          "height": 314
        },
        "id": "fteAs53ib03n",
        "outputId": "28901120-e568-4039-d521-4306ae9a4419"
      },
      "execution_count": null,
      "outputs": [
        {
          "output_type": "display_data",
          "data": {
            "text/plain": [
              "<Figure size 432x288 with 2 Axes>"
            ],
            "image/png": "[encoded data removed]"
          },
          "metadata": {
            "needs_background": "light"
          }
        }
      ]
    },
    {
      "cell_type": "markdown",
      "source": [
        "É possível ver que a rede apresenta uma redução de loss e ganho de acurácia significativos até a 9 época, porém vai perdendo a capacidade de aprendizado, o que pode ser causado pela arquitetura da rede, que foi originalmente construída para identificação de dígitos em imagens em escalas de cinza e as imagens do dataset Cifar-10 apresentam 3 canais(RGB)."
      ],
      "metadata": {
        "id": "XN7bpAyYawoh"
      }
    },
    {
      "cell_type": "code",
      "source": [
        "# torch.save(model_data[3].state_dict(),'Lenet_CIFAR10_weights')"
      ],
      "metadata": {
        "id": "GVmE2ndGZilP"
      },
      "execution_count": null,
      "outputs": []
    },
    {
      "cell_type": "code",
      "source": [
        "# model = LeNet5(10)\n",
        "# model.load_state_dict(torch.load('/content/Lenet_CIFAR10_treino'))\n",
        "# model.eval()"
      ],
      "metadata": {
        "id": "-l1qYNT2Zg9_"
      },
      "execution_count": null,
      "outputs": []
    }
  ]
}